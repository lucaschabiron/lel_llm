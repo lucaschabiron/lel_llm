{
 "cells": [
  {
   "cell_type": "code",
   "execution_count": 1,
   "metadata": {},
   "outputs": [],
   "source": [
    "MODEL_PATH = \"llama-1b-wikipedia/checkpoint-2500\"\n",
    "TOKENIZER_PATH = \"meta-llama/Llama-3.2-1B\"\n",
    "SYSTEM_PROMPT = \"You are a corrector of French texts. Correct the text without explaining.\"\n",
    "MAX_LENGTH = 1024"
   ]
  },
  {
   "cell_type": "code",
   "execution_count": 2,
   "metadata": {},
   "outputs": [
    {
     "name": "stderr",
     "output_type": "stream",
     "text": [
      "/home2/lchabiron/miniconda3/envs/wikipedia/lib/python3.12/site-packages/tqdm/auto.py:21: TqdmWarning: IProgress not found. Please update jupyter and ipywidgets. See https://ipywidgets.readthedocs.io/en/stable/user_install.html\n",
      "  from .autonotebook import tqdm as notebook_tqdm\n"
     ]
    }
   ],
   "source": [
    "import sys\n",
    "sys.path.append('..')\n",
    "import torch\n",
    "from transformers import AutoTokenizer, AutoModelForCausalLM\n",
    "from jiwer import cer, wer\n",
    "\n",
    "from src.evaluate import correct_text"
   ]
  },
  {
   "cell_type": "code",
   "execution_count": 3,
   "metadata": {},
   "outputs": [],
   "source": [
    "from datasets import load_dataset\n",
    "\n",
    "test_dataset = dataset = load_dataset(\"wikipedia\", \"20220301.fr\", split=\"train\")\n",
    "test_dataset = test_dataset.shuffle(seed=50)\n",
    "test_dataset = test_dataset.select(range(100))\n",
    "test_dataset = test_dataset.filter(lambda example: len(example['text']) <= 2500)"
   ]
  },
  {
   "cell_type": "code",
   "execution_count": 4,
   "metadata": {},
   "outputs": [],
   "source": [
    "from src.data_utils import introduce_errors\n",
    "\n",
    "def process_example(example):\n",
    "    text = example['text']\n",
    "    return {'input': introduce_errors(text), 'output': text}\n",
    "\n",
    "test_dataset = test_dataset.map(process_example, batched=False, remove_columns=['title', 'text', 'id', 'url'])"
   ]
  },
  {
   "cell_type": "code",
   "execution_count": 5,
   "metadata": {},
   "outputs": [
    {
     "name": "stdout",
     "output_type": "stream",
     "text": [
      "Introduced CER: 0.02397686974832509\n",
      "Introduced WER: 0.13989397660558023\n",
      "Cer std dev: 0.023085787892341614\n",
      "Wer std dev: 0.10908369719982147\n"
     ]
    }
   ],
   "source": [
    "cer_list = []\n",
    "wer_list = []\n",
    "for example in test_dataset:\n",
    "    input_text = example['input']\n",
    "    output_text = example['output']\n",
    "    cer_list.append(cer(output_text, input_text))\n",
    "    wer_list.append(wer(output_text, input_text))\n",
    "\n",
    "print(\"Introduced CER:\", sum(cer_list) / len(cer_list))\n",
    "print(\"Introduced WER:\", sum(wer_list) / len(wer_list))\n",
    "print(\"Cer std dev:\", torch.tensor(cer_list).std().item())\n",
    "print(\"Wer std dev:\", torch.tensor(wer_list).std().item())"
   ]
  },
  {
   "cell_type": "code",
   "execution_count": 6,
   "metadata": {},
   "outputs": [
    {
     "data": {
      "text/plain": [
       "LlamaForCausalLM(\n",
       "  (model): LlamaModel(\n",
       "    (embed_tokens): Embedding(128256, 2048)\n",
       "    (layers): ModuleList(\n",
       "      (0-15): 16 x LlamaDecoderLayer(\n",
       "        (self_attn): LlamaSdpaAttention(\n",
       "          (q_proj): Linear(in_features=2048, out_features=2048, bias=False)\n",
       "          (k_proj): Linear(in_features=2048, out_features=512, bias=False)\n",
       "          (v_proj): Linear(in_features=2048, out_features=512, bias=False)\n",
       "          (o_proj): Linear(in_features=2048, out_features=2048, bias=False)\n",
       "          (rotary_emb): LlamaRotaryEmbedding()\n",
       "        )\n",
       "        (mlp): LlamaMLP(\n",
       "          (gate_proj): Linear(in_features=2048, out_features=8192, bias=False)\n",
       "          (up_proj): Linear(in_features=2048, out_features=8192, bias=False)\n",
       "          (down_proj): Linear(in_features=8192, out_features=2048, bias=False)\n",
       "          (act_fn): SiLU()\n",
       "        )\n",
       "        (input_layernorm): LlamaRMSNorm((2048,), eps=1e-05)\n",
       "        (post_attention_layernorm): LlamaRMSNorm((2048,), eps=1e-05)\n",
       "      )\n",
       "    )\n",
       "    (norm): LlamaRMSNorm((2048,), eps=1e-05)\n",
       "    (rotary_emb): LlamaRotaryEmbedding()\n",
       "  )\n",
       "  (lm_head): Linear(in_features=2048, out_features=128256, bias=False)\n",
       ")"
      ]
     },
     "execution_count": 6,
     "metadata": {},
     "output_type": "execute_result"
    }
   ],
   "source": [
    "model_path = \"../models/\" + MODEL_PATH\n",
    "tokenizer = AutoTokenizer.from_pretrained(TOKENIZER_PATH)\n",
    "model = AutoModelForCausalLM.from_pretrained(model_path)\n",
    "model.to(torch.device(\"cuda\" if torch.cuda.is_available() else \"cpu\"))"
   ]
  },
  {
   "cell_type": "code",
   "execution_count": 7,
   "metadata": {},
   "outputs": [
    {
     "name": "stderr",
     "output_type": "stream",
     "text": [
      "Evaluating: 100%|██████████| 73/73 [06:00<00:00,  4.94s/it]"
     ]
    },
    {
     "name": "stdout",
     "output_type": "stream",
     "text": [
      "CER: 0.032882601001905126\n",
      "WER: 0.062977366347162\n"
     ]
    },
    {
     "name": "stderr",
     "output_type": "stream",
     "text": [
      "\n"
     ]
    }
   ],
   "source": [
    "from tqdm import tqdm\n",
    "\n",
    "cer_scores = []\n",
    "wer_scores = []\n",
    "\n",
    "for example in tqdm(test_dataset, desc=\"Evaluating\"):\n",
    "    input_text = example[\"input\"]\n",
    "    target_text = example[\"output\"]\n",
    "    corrected_text = correct_text(input_text, model, tokenizer, max_length=MAX_LENGTH, system_prompt=SYSTEM_PROMPT)\n",
    "    cer_scores.append(cer(target_text, corrected_text))\n",
    "    wer_scores.append(wer(target_text, corrected_text))\n",
    "\n",
    "print(\"CER:\", sum(cer_scores) / len(cer_scores))\n",
    "print(\"WER:\", sum(wer_scores) / len(wer_scores))\n"
   ]
  },
  {
   "cell_type": "code",
   "execution_count": 8,
   "metadata": {},
   "outputs": [
    {
     "name": "stdout",
     "output_type": "stream",
     "text": [
      "Cer std dev: 0.08759099990129471\n",
      "Wer std dev: 0.09981656074523926\n"
     ]
    }
   ],
   "source": [
    "print(\"Cer std dev:\", torch.tensor(cer_scores).std().item())\n",
    "print(\"Wer std dev:\", torch.tensor(wer_scores).std().item())"
   ]
  }
 ],
 "metadata": {
  "kernelspec": {
   "display_name": "wikipedia",
   "language": "python",
   "name": "python3"
  },
  "language_info": {
   "codemirror_mode": {
    "name": "ipython",
    "version": 3
   },
   "file_extension": ".py",
   "mimetype": "text/x-python",
   "name": "python",
   "nbconvert_exporter": "python",
   "pygments_lexer": "ipython3",
   "version": "3.12.8"
  }
 },
 "nbformat": 4,
 "nbformat_minor": 2
}
